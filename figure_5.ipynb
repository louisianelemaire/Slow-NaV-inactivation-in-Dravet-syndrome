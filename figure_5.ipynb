{
 "cells": [
  {
   "cell_type": "markdown",
   "metadata": {},
   "source": [
    "# Bifurcation diagram of the full system with respect to $I_{\\rm app}$\n",
    "\n",
    "Model: Hu, version with slow inactivation.\n",
    "\n",
    "Auto files: [fortran file](utils/models/hu_slow_inact/auto/hu_slow_inact.f90) and [constants](utils/models/hu_slow_inact/auto/c.hu_slow_inact).\n",
    "\n",
    "Script to compute fixed points and limit cycles used as starting point for auto: [here](prepare_continuation_hu_slow_inact.py).\n"
   ]
  },
  {
   "cell_type": "code",
   "execution_count": 1,
   "metadata": {},
   "outputs": [],
   "source": [
    "import matplotlib.pyplot as plt\n",
    "import utils.auto_helper as auto_helper\n",
    "import utils.simu_helper as simu_helper\n",
    "import utils.plot_helper as plot_helper\n",
    "import prepare_continuation_hu_slow_inact\n"
   ]
  },
  {
   "cell_type": "code",
   "execution_count": null,
   "metadata": {},
   "outputs": [],
   "source": [
    "prepare_continuation = True\n",
    "compute_bd = True\n"
   ]
  },
  {
   "cell_type": "markdown",
   "metadata": {},
   "source": [
    "### Model"
   ]
  },
  {
   "cell_type": "code",
   "execution_count": 3,
   "metadata": {},
   "outputs": [
    {
     "name": "stdout",
     "output_type": "stream",
     "text": [
      "utils/models/hu_slow_inact/auto\n"
     ]
    }
   ],
   "source": [
    "model_name = \"hu_slow_inact\"\n",
    "model = simu_helper.import_model(model_name)\n",
    "auto_dir = auto_helper.compute_auto_dir(model_name)\n",
    "print(auto_dir)"
   ]
  },
  {
   "cell_type": "markdown",
   "metadata": {},
   "source": [
    "### Parameter values"
   ]
  },
  {
   "cell_type": "code",
   "execution_count": 4,
   "metadata": {},
   "outputs": [],
   "source": [
    "param_set_ids = [\"wt\", \"altered_inact_half_channels\", \"altered_inact_all_channels\"]\n",
    "i_app_val = 10"
   ]
  },
  {
   "cell_type": "markdown",
   "metadata": {},
   "source": [
    "## Prepare continuation"
   ]
  },
  {
   "cell_type": "code",
   "execution_count": 5,
   "metadata": {},
   "outputs": [],
   "source": [
    "if prepare_continuation:\n",
    "    prepare_continuation_hu_slow_inact.compute_fp_and_lc(param_set_ids[0], None, compute_lc=False)\n",
    "\n",
    "    prepare_continuation_hu_slow_inact.compute_fp_and_lc(param_set_ids[1], i_app_val)\n",
    "    prepare_continuation_hu_slow_inact.compute_fp_and_lc(param_set_ids[2], i_app_val)\n",
    "\n"
   ]
  },
  {
   "cell_type": "markdown",
   "metadata": {},
   "source": [
    "## Continuation"
   ]
  },
  {
   "cell_type": "markdown",
   "metadata": {},
   "source": [
    "### Bifurcation diagram wrt $I_{\\rm app}$"
   ]
  },
  {
   "cell_type": "code",
   "execution_count": 6,
   "metadata": {},
   "outputs": [],
   "source": [
    "if compute_bd:\n",
    "    for param_set_id in param_set_ids:\n",
    "        print(param_set_id)\n",
    "        print(auto_dir)\n",
    "\n",
    "        # parameter values\n",
    "        params_simu = getattr(model, f\"params_{param_set_id}\")\n",
    "        params = auto_helper.convert_params_dict(params_simu) \n",
    "\n",
    "\n",
    "        # 1) fixed points\n",
    "        inits = auto_helper.load_fixed_point(auto_dir, param_set_id)  # starting point for auto\n",
    "        print(inits)\n",
    "        print(param_set_id)\n",
    "        print(params)\n",
    "        auto_helper.run(filename=\"branch_eq\", auto_dir=auto_dir, output_dir=param_set_id, e=model_name, c=model_name,\n",
    "                        ICP=\"IAPP\", U=inits, PAR=params, UZSTOP={\"IAPP\": 200})\n",
    "        auto_helper.run(filename=\"branch_eq_bwd\", auto_dir=auto_dir, output_dir=param_set_id, e=model_name, c=model_name,\n",
    "                        ICP=\"IAPP\", U=inits, PAR=params, UZSTOP={\"IAPP\": -50}, DS=\"-\")\n",
    "        \n",
    "        # 2) limit cycles\n",
    "        if param_set_id in [\"wt\"]:  # continue limit cycle from Hopf\n",
    "\n",
    "            auto_helper.run(filename=\"branch_lc\", auto_dir=auto_dir, output_dir=param_set_id, e=model_name, c=model_name,\n",
    "                ICP=[\"IAPP\", \"PERIOD\"], s=\"branch_eq\",\n",
    "                IRS=\"HB1\", IPLT=-1, IPS=2, STOP=\"LP5\", NTST=1000)\n",
    "            \n",
    "        if param_set_id in [\"altered_inact_half_channels\", \"altered_inact_all_channels\"]:  # continue limit cycle found by direct simulation\n",
    "            auto_helper.run(filename=\"branch_lc\", auto_dir=auto_dir, output_dir=param_set_id, e=model_name, c=model_name,\n",
    "                ICP=[\"IAPP\", \"PERIOD\"], dat=f\"lc_I_app_{i_app_val}.dat\", PAR=params | {\"IAPP\": i_app_val},\n",
    "                IPLT=-1, IPS=2, STOP=\"LP3\", NTST=200)\n",
    "\n"
   ]
  },
  {
   "cell_type": "markdown",
   "metadata": {},
   "source": [
    "### Bifurcation diagram wrt $I_{\\rm app}$ and ${\\rm shift}_s$\n",
    "\n",
    "Shift for all the sodium channels"
   ]
  },
  {
   "cell_type": "code",
   "execution_count": 7,
   "metadata": {},
   "outputs": [],
   "source": [
    "param_set_id = param_set_ids[0]\n",
    "if compute_bd:\n",
    "    # hopf\n",
    "    auto_helper.run(filename=\"branch_hopf_all_channels\", auto_dir=auto_dir, output_dir=param_set_id, e=model_name, c=model_name, ICP=[\"IAPP\", \"SHIFTS\"],\n",
    "                    s=\"branch_eq\", IRS=\"HB1\", ISW=2, UZSTOP={\"SHIFTS\":0}, STOP=\"LP1\", PAR={\"PMUT\": 1})\n",
    "    # snp\n",
    "    auto_helper.run(filename=\"branch_snp_1_all_channels_dummy\", auto_dir=auto_dir, output_dir=param_set_id, e=model_name, c=model_name, ICP=[\"IAPP\", \"SHIFTS\"],\n",
    "                    s=\"branch_lc\", IRS=\"LP1\", ISW=2, UZSTOP={\"SHIFTS\":-15}, STOP=\"LP1\", PAR={\"PMUT\": 1}, IPS=2)\n",
    "\n",
    "    auto_helper.run(filename=\"branch_snp_1_all_channels\", auto_dir=auto_dir, output_dir=param_set_id, e=model_name, c=model_name, ICP=[\"IAPP\", \"SHIFTS\"],\n",
    "                    s=\"branch_snp_1_all_channels_dummy\", IRS=\"EP1\", ISW=2, UZSTOP={\"SHIFTS\":0}, STOP=\"LP2\", PAR={\"PMUT\": 1}, IPS=2)\n",
    "\n",
    "    auto_helper.run(filename=\"branch_snp_2_all_channels_dummy\", auto_dir=auto_dir, output_dir=param_set_id, e=model_name, c=model_name, ICP=[\"IAPP\", \"SHIFTS\"],\n",
    "                    s=\"branch_lc\", IRS=\"LP3\", ISW=2, UZSTOP={\"SHIFTS\":-15}, PAR={\"PMUT\": 1}, IPS=2)\n",
    "\n",
    "    auto_helper.run(filename=\"branch_snp_2_all_channels\", auto_dir=auto_dir, output_dir=param_set_id, e=model_name, c=model_name, ICP=[\"IAPP\", \"SHIFTS\"],\n",
    "                    s=\"branch_snp_2_all_channels_dummy\", IRS=\"EP1\", ISW=2, UZSTOP={\"SHIFTS\":0}, STOP=\"LP2\", PAR={\"PMUT\": 1}, IPS=2)\n"
   ]
  },
  {
   "cell_type": "markdown",
   "metadata": {},
   "source": [
    "Shift for only half of the sodium channels"
   ]
  },
  {
   "cell_type": "code",
   "execution_count": 8,
   "metadata": {},
   "outputs": [],
   "source": [
    "if compute_bd:\n",
    "    param_set_id = param_set_ids[0]\n",
    "    # hopf\n",
    "    auto_helper.run(filename=\"branch_hopf_half_channels\", auto_dir=auto_dir, output_dir=param_set_id, e=model_name, c=model_name, ICP=[\"IAPP\", \"SHIFTS\"],\n",
    "                    s=\"branch_eq\", IRS=\"HB1\", ISW=2, UZSTOP={\"SHIFTS\":0}, STOP=\"LP1\", PAR={\"PMUT\": 0.5})\n",
    "    # snp\n",
    "    auto_helper.run(filename=\"branch_snp_1_half_channels_dummy\", auto_dir=auto_dir, output_dir=param_set_id, e=model_name, c=model_name, ICP=[\"IAPP\", \"SHIFTS\"],\n",
    "                    s=\"branch_lc\", IRS=\"LP1\", ISW=2, UZSTOP={\"SHIFTS\":-15}, STOP=\"LP1\", PAR={\"PMUT\": 0.5}, IPS=2)\n",
    "\n",
    "    auto_helper.run(filename=\"branch_snp_1_half_channels\", auto_dir=auto_dir, output_dir=param_set_id, e=model_name, c=model_name, ICP=[\"IAPP\", \"SHIFTS\"],\n",
    "                    s=\"branch_snp_1_half_channels_dummy\", IRS=\"EP1\", ISW=2, UZSTOP={\"SHIFTS\":0}, STOP=\"LP2\", PAR={\"PMUT\": 0.5}, IPS=2)\n",
    "\n",
    "    auto_helper.run(filename=\"branch_snp_2_half_channels_dummy\", auto_dir=auto_dir, output_dir=param_set_id, e=model_name, c=model_name, ICP=[\"IAPP\", \"SHIFTS\"],\n",
    "                    s=\"branch_lc\", IRS=\"LP3\", ISW=2, UZSTOP={\"SHIFTS\":-15}, PAR={\"PMUT\": 0.5}, IPS=2)\n",
    "\n",
    "    auto_helper.run(filename=\"branch_snp_2_half_channels\", auto_dir=auto_dir, output_dir=param_set_id, e=model_name, c=model_name, ICP=[\"IAPP\", \"SHIFTS\"],\n",
    "                    s=\"branch_snp_2_half_channels_dummy\", IRS=\"EP1\", ISW=2, UZSTOP={\"SHIFTS\":-1000}, STOP=\"LP2\", PAR={\"PMUT\": 0.5}, IPS=2)\n",
    "\n",
    "    auto_helper.run(filename=\"branch_snp_3_half_channels_dummy\", auto_dir=auto_dir, output_dir=param_set_id, e=model_name, c=model_name, ICP=[\"IAPP\", \"SHIFTS\"],\n",
    "                    s=\"branch_lc\", IRS=\"LP4\", ISW=2, UZSTOP={\"SHIFTS\":-15}, PAR={\"PMUT\": 0.5}, IPS=2)\n",
    "\n",
    "    auto_helper.run(filename=\"branch_snp_3_half_channels\", auto_dir=auto_dir, output_dir=param_set_id, e=model_name, c=model_name, ICP=[\"IAPP\", \"SHIFTS\"],\n",
    "                    s=\"branch_snp_3_half_channels_dummy\", IRS=\"EP1\", ISW=2, UZSTOP={\"SHIFTS\":-1000}, STOP=\"LP2\", PAR={\"PMUT\": 0.5}, IPS=2, DS=\"-\")"
   ]
  },
  {
   "cell_type": "markdown",
   "metadata": {},
   "source": [
    "## Figures\n",
    "\n",
    "### Bifurcation diagram with respect to the applied current"
   ]
  },
  {
   "cell_type": "code",
   "execution_count": 9,
   "metadata": {},
   "outputs": [],
   "source": [
    "def plot_bd_wt(ax, variant, runs_to_plot):\n",
    "    l_eq_stable, l_eq_unstable, l_lc_stable, l_lc_unstable = auto_helper.plot_bd(\n",
    "        ax, auto_dir, variant, runs_to_plot, 0)\n",
    "    auto_helper.plot_special_point(ax, auto_dir, variant, runs_to_plot[0], label_auto=\"HB2\", label=\"HB\",\n",
    "                                   label_legend=\"Hopf\", **auto_helper.hopf_plot_args)\n",
    "    \n",
    "    for fold_idx in [1, 2, 3, 4]:\n",
    "        auto_helper.plot_special_point(ax, auto_dir, variant, runs_to_plot[1], label_auto=f\"LP{fold_idx}\", label=\"LPC\",\n",
    "                                    label_legend=\"SNP\", **auto_helper.snp_plot_args)\n",
    "        auto_helper.plot_special_point(ax, auto_dir, variant, runs_to_plot[1], label_auto=f\"LP{fold_idx}\", label=\"LPC\", var_idx=-1, **auto_helper.snp_plot_args)\n",
    "        \n",
    "    auto_helper.plot_special_point(ax, auto_dir, variant, runs_to_plot[0], label_auto=\"HB1\", label=\"HB\", **auto_helper.hopf_plot_args)\n",
    "    \n",
    "    \n"
   ]
  },
  {
   "cell_type": "code",
   "execution_count": 10,
   "metadata": {},
   "outputs": [],
   "source": [
    "def plot_bd_isolas(ax, variant, runs_to_plot):\n",
    "    l_eq_stable, l_eq_unstable, l_lc_stable, l_lc_unstable = auto_helper.plot_bd(\n",
    "        ax, auto_dir, variant, runs_to_plot, 0)\n",
    "    \n",
    "    for fold_idx in [1, 2]:\n",
    "        auto_helper.plot_special_point(ax, auto_dir, variant, runs_to_plot[1], label_auto=f\"LP{fold_idx}\", label=\"LPC\",\n",
    "                                    label_legend=\"SNP\", **auto_helper.snp_plot_args)\n",
    "        auto_helper.plot_special_point(ax, auto_dir, variant, runs_to_plot[1], label_auto=f\"LP{fold_idx}\", label=\"LPC\", var_idx=-1, **auto_helper.snp_plot_args)"
   ]
  },
  {
   "cell_type": "code",
   "execution_count": 11,
   "metadata": {},
   "outputs": [],
   "source": [
    "snp_branch_args = {\"markevery\": 0.1, \"marker\":'o', \"markersize\":3.5, \"color\": \"k\", \"linewidth\": 1}\n",
    "hopf_branch_args = {\"markevery\": 0.1, \"marker\":'^', \"markersize\":4, \"color\": \"grey\", \"linewidth\": 1}\n"
   ]
  },
  {
   "cell_type": "code",
   "execution_count": 12,
   "metadata": {},
   "outputs": [],
   "source": [
    "def plot_bd_codim_2_all_channels(ax):\n",
    "    auto_helper.plot_codim_2_bd_diagram(ax, auto_dir, param_set_ids[0], \"branch_hopf_all_channels\", label=\"Hopf\", **hopf_branch_args)\n",
    "    auto_helper.plot_codim_2_bd_diagram(ax, auto_dir, param_set_ids[0], \"branch_snp_1_all_channels\", **snp_branch_args)\n",
    "    auto_helper.plot_codim_2_bd_diagram(ax, auto_dir, param_set_ids[0], \"branch_snp_2_all_channels\", label=\"SNP\", **snp_branch_args)"
   ]
  },
  {
   "cell_type": "code",
   "execution_count": 13,
   "metadata": {},
   "outputs": [],
   "source": [
    "def plot_bd_codim_2_half_channels(ax):\n",
    "    auto_helper.plot_codim_2_bd_diagram(ax, auto_dir, param_set_ids[0], \"branch_hopf_half_channels\", label=\"Hopf\", **hopf_branch_args)\n",
    "    auto_helper.plot_codim_2_bd_diagram(ax, auto_dir, param_set_ids[0], \"branch_snp_1_half_channels\", **snp_branch_args)\n",
    "    auto_helper.plot_codim_2_bd_diagram(ax, auto_dir, param_set_ids[0], \"branch_snp_2_half_channels\", **snp_branch_args)\n",
    "    auto_helper.plot_codim_2_bd_diagram(ax, auto_dir, param_set_ids[0], \"branch_snp_3_half_channels\",label=\"SNP\", **snp_branch_args)\n",
    "    "
   ]
  },
  {
   "cell_type": "code",
   "execution_count": 14,
   "metadata": {},
   "outputs": [],
   "source": [
    "runs_to_plot = [\"branch_eq\", \"branch_lc\"]"
   ]
  },
  {
   "cell_type": "code",
   "execution_count": 15,
   "metadata": {},
   "outputs": [
    {
     "name": "stdout",
     "output_type": "stream",
     "text": [
      "Parsed output data\n",
      "Parsed output data\n",
      "Parsed output data\n",
      "Parsed output data\n",
      "Parsed output data\n",
      "Parsed output data\n",
      "Parsed output data\n",
      "Parsed output data\n",
      "Parsed output data\n",
      "Parsed output data\n",
      "Parsed output data\n",
      "Parsed output data\n",
      "Parsed output data\n",
      "Parsed output data\n",
      "Parsed output data\n",
      "Parsed output data\n",
      "Parsed output data\n",
      "Parsed output data\n",
      "Parsed output data\n",
      "Parsed output data\n",
      "Parsed output data\n",
      "Parsed output data\n",
      "Parsed output data\n",
      "Parsed output data\n",
      "Parsed output data\n",
      "Parsed output data\n",
      "Parsed output data\n",
      "Parsed output data\n",
      "Parsed output data\n",
      "Parsed output data\n",
      "Parsed output data\n",
      "figures/figure_5.eps\n"
     ]
    },
    {
     "data": {
      "image/png": "[encoded data removed]",
      "text/plain": [
       "<Figure size 690x620 with 5 Axes>"
      ]
     },
     "metadata": {},
     "output_type": "display_data"
    }
   ],
   "source": [
    "fig = plt.figure(layout=\"tight\")\n",
    "\n",
    "fig.set_size_inches(plot_helper.fig_size_default[\"width\"], 6.2)  # figure size \n",
    "\n",
    "# figure layout\n",
    "n_rows = 3\n",
    "n_cols = 4\n",
    "ax_bd_wrt_s_wt = plt.subplot2grid((n_rows, n_cols), (0, 1), colspan=2, rowspan=1)\n",
    "ax_bd_wrt_s_shift_all = plt.subplot2grid((n_rows, n_cols), (1, 0), colspan=2, rowspan=1)\n",
    "ax_bd_wrt_s_shift_half = plt.subplot2grid((n_rows, n_cols), (1, 2), colspan=2, rowspan=1)\n",
    "ax_bd_codim_2_s_shift_all = plt.subplot2grid((n_rows, n_cols), (2, 0), colspan=2, rowspan=1)\n",
    "ax_bd_codim_2_s_shift_half = plt.subplot2grid((n_rows, n_cols), (2, 2), colspan=2, rowspan=1)\n",
    "\n",
    "# shared axes\n",
    "plot_helper.share_axis([ax_bd_wrt_s_wt, ax_bd_wrt_s_shift_all, ax_bd_wrt_s_shift_half], y=True)\n",
    "plot_helper.share_axis([ax_bd_codim_2_s_shift_all, ax_bd_codim_2_s_shift_half], y=True)\n",
    "plot_helper.share_axis([ax_bd_wrt_s_wt, ax_bd_wrt_s_shift_all, ax_bd_wrt_s_shift_half, ax_bd_codim_2_s_shift_all, ax_bd_codim_2_s_shift_half], x=True)\n",
    "\n",
    "\n",
    "#### 1) bifurcation diagrams with respect to the applied current\n",
    "# wild type\n",
    "ax = ax_bd_wrt_s_wt\n",
    "plot_bd_wt(ax, param_set_ids[0], runs_to_plot)\n",
    "plot_helper.my_legend(ax, loc=[0.5, 0.8])\n",
    "ax.set_xlim([0, 60])\n",
    "ax.set_title(\"Wild type\", y=1.15)\n",
    "ax.text(x=45, y=-40, s=r\"dep. block\", color=\"k\", fontsize=8)\n",
    "\n",
    "\n",
    "# shift for all the Na+ channels\n",
    "ax = ax_bd_wrt_s_shift_all\n",
    "plot_bd_isolas(ax, param_set_ids[2], runs_to_plot)\n",
    "ax.set_title(\"Shifted voltage dependence, \"+r\"$p_{\\rm mut}=1$\", y=1.1, x=0.55)\n",
    "plot_helper.annotate_blended(ax, r\"$v_s$=-15 mV\", xy=[0.75, 0.1], fontsize=8)\n",
    "\n",
    "# shift for only half of the sodium channels\n",
    "ax = ax_bd_wrt_s_shift_half\n",
    "plot_bd_isolas(ax, param_set_ids[1], runs_to_plot)\n",
    "plot_helper.annotate_blended(ax, r\"$v_s$=-15 mV\", xy=[0.75, 0.1], fontsize=8)\n",
    "ax.set_title(\"Shifted voltage dependence, \"+r\"$p_{\\rm mut}=0.5$\", y=1.1, x=0.55)\n",
    "\n",
    "\n",
    "#### 2) bifurcation diagram with respect to I_app and shift_s\n",
    "# shift for all the Na+ channels\n",
    "ax = ax_bd_codim_2_s_shift_all\n",
    "plot_bd_codim_2_all_channels(ax)\n",
    "ax.axhline(y=-15, zorder=-1, color=\"k\", lw=0.3)\n",
    "ax.set_ylim([-20, 0])\n",
    "ax.legend()\n",
    "# shift for only half of the sodium channels\n",
    "ax = ax_bd_codim_2_s_shift_half\n",
    "plot_bd_codim_2_half_channels(ax)\n",
    "ax.axhline(y=-15, zorder=-1, color=\"k\", lw=0.3)\n",
    "\n",
    "# axes settings\n",
    "for ax in [ax_bd_wrt_s_wt, ax_bd_wrt_s_shift_all]:\n",
    "    ax.set_ylabel(r\"$v$ (mV)\")\n",
    "\n",
    "for ax in [ax_bd_codim_2_s_shift_all, ax_bd_codim_2_s_shift_half]:\n",
    "    ax.set_xlabel(r\"$I_{\\rm app}$\"+u\"(\\u00B5A/cm\\u00B2)\")\n",
    "\n",
    "for ax in [ax_bd_codim_2_s_shift_all]:\n",
    "    ax.set_ylabel(r\"$v_s$ (mV)\")\n",
    "\n",
    "for ax in fig.axes:\n",
    "    ax.spines[['right', 'top']].set_visible(False)\n",
    "\n",
    "# beautify\n",
    "for my_ax in [ax_bd_codim_2_s_shift_half, ax_bd_wrt_s_shift_half]:\n",
    "    plt.setp(my_ax.get_yticklabels(), visible=False)\n",
    "plot_helper.lettering(fig, pos=[0, 1.1], labels=[\"a\", \"b\", \"c\", \"d\", \"e\"])  # panel labels\n",
    "\n",
    "# save figure\n",
    "fig_dir = plot_helper.fig_dir\n",
    "fig_path = f'{fig_dir}/figure_5.eps'\n",
    "print(fig_path)\n",
    "plt.savefig(fig_path, format='eps')    "
   ]
  },
  {
   "cell_type": "code",
   "execution_count": null,
   "metadata": {},
   "outputs": [],
   "source": []
  }
 ],
 "metadata": {
  "kernelspec": {
   "display_name": "slow-nav-inactivation-in-dravet-syndrome",
   "language": "python",
   "name": "python3"
  },
  "language_info": {
   "codemirror_mode": {
    "name": "ipython",
    "version": 3
   },
   "file_extension": ".py",
   "mimetype": "text/x-python",
   "name": "python",
   "nbconvert_exporter": "python",
   "pygments_lexer": "ipython3",
   "version": "3.11.11"
  }
 },
 "nbformat": 4,
 "nbformat_minor": 2
}
